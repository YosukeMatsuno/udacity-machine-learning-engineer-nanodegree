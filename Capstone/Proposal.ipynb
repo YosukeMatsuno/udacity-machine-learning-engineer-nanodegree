{
 "cells": [
  {
   "cell_type": "markdown",
   "metadata": {},
   "source": [
    "\n",
    "# Machine Learning Engineer Nanodegree\n",
    "## Capstone Proposal\n",
    "Yosuke Matsuno    \n",
    "Spe 3st, 2018"
   ]
  },
  {
   "cell_type": "markdown",
   "metadata": {},
   "source": [
    "## Proposal and Domain Background"
   ]
  },
  {
   "cell_type": "markdown",
   "metadata": {},
   "source": [
    "Nikkei225 market price predictor\n",
    "\n",
    "Nowadays Machine learning technology applies for extensive industries. Especially it uses for core of trading in the finance industry. According to news website Goldman Sachs replaced their 600 senior traders to 200 computer engineers and made automate trading system to use ML. This is a essential and great example of ML capabilities. Statistical method was popular before but recently years ML and DL method are getting more prevalence.\n",
    "\n",
    "Recently reports shows superiority to predict.  \n",
    "\"Machine Learning with Financial Time Series Data on Google Cloud Platform\"  \n",
    "\"A deep learning framework for financial time series using stacked autoencoders and long-short term memory\"\n",
    "\n",
    "I know stock market isn't closed world and always affected from various reasons (world political situation so on) It's difficult challenge even big company like GS but I'm so interested in this field trend and feel motivate. So I will tackle to use these techniques and make my own way to get better prediction. I hope it would be my good private investment solution to get daily beers:-)\n"
   ]
  },
  {
   "cell_type": "markdown",
   "metadata": {},
   "source": [
    "### Problem Statement"
   ]
  },
  {
   "cell_type": "markdown",
   "metadata": {},
   "source": [
    "The purpose of this capstone project is to build great machine learning model that can predict future stock price using historical data. There are two type of problems. To predict future stock price is regression problem and to predict future stock price is higher or lower than today is classification problem. This project I will focus to solve regression problem to predict future stock price.\n"
   ]
  },
  {
   "cell_type": "markdown",
   "metadata": {},
   "source": [
    "### Datasets and Inputs"
   ]
  },
  {
   "cell_type": "markdown",
   "metadata": {},
   "source": [
    "Input csv data contains with \"Date\", \"Open\", \"High\", \"Low\", \"Close\" OHLC price about Nikkei225 market.\n",
    "This data has 1 day period from 2000 - 2018.\n",
    "Price sometime moves crazy so I will pick up specific stable time range for good training and test(should compare with or without though)."
   ]
  },
  {
   "cell_type": "code",
   "execution_count": 50,
   "metadata": {},
   "outputs": [
    {
     "name": "stdout",
     "output_type": "stream",
     "text": [
      "                    Open          High           Low         Close     Adj Close  Volume\n",
      "Date                                                                                    \n",
      "2000-08-31  16918.029297  17056.539063  16769.490234  16861.259766  16861.259766     0.0\n",
      "2000-09-01  16915.039063  17018.519531  16700.359375  16739.779297  16739.779297     0.0\n",
      "2000-09-04  16764.330078  16883.310547  16661.480469  16688.210938  16688.210938     0.0\n",
      "2000-09-05  16677.789063  16712.330078  16401.279297  16452.269531  16452.269531     0.0\n",
      "2000-09-06  16433.849609  16531.810547  16364.950195  16399.869141  16399.869141     0.0\n",
      "                    Open          High           Low         Close     Adj Close   Volume\n",
      "Date                                                                                     \n",
      "2018-08-24  22484.009766  22602.240234  22452.419922  22601.769531  22601.769531  50400.0\n",
      "2018-08-27  22693.689453  22838.060547  22682.390625  22799.640625  22799.640625  50200.0\n",
      "2018-08-28  22967.740234  23006.769531  22813.470703  22813.470703  22813.470703  60700.0\n",
      "2018-08-29  22820.859375  22968.179688  22819.970703  22848.220703  22848.220703  58800.0\n",
      "2018-08-30  23020.179688  23032.169922  22832.830078  22869.500000  22869.500000  73900.0\n"
     ]
    }
   ],
   "source": [
    "import pandas as pd\n",
    "pd.set_option(\"display.width\", 100)\n",
    "pd.set_option(\"display.max_rows\", 200)\n",
    "\n",
    "file = \"/Users/Graph/-Work-/Local_Dev/Udacity - Machine Learning Nanodegree/Part7 - Machine Learning Capstone/P1 - Writing up a Capstone Proposal/proposal-2/Nikkei225_1day_20000831-20180831.csv\"\n",
    "data = pd.read_csv(file)\n",
    "data = data.dropna()\n",
    "data[\"Date\"] = pd.to_datetime(data[\"Date\"])\n",
    "\n",
    "data[\"Close\"] = data[\"Close\"].astype(float)\n",
    "data = data.set_index(\"Date\")\n",
    "\n",
    "print (data.head())\n",
    "print (data.tail())"
   ]
  },
  {
   "cell_type": "code",
   "execution_count": 51,
   "metadata": {},
   "outputs": [
    {
     "data": {
      "text/plain": [
       "[<matplotlib.lines.Line2D at 0x11fc3b470>]"
      ]
     },
     "execution_count": 51,
     "metadata": {},
     "output_type": "execute_result"
    },
    {
     "data": {
      "image/png": "[encoded data removed]",
      "text/plain": [
       "<matplotlib.figure.Figure at 0x11fc2d828>"
      ]
     },
     "metadata": {},
     "output_type": "display_data"
    }
   ],
   "source": [
    "%matplotlib inline\n",
    "import matplotlib.pyplot as plt\n",
    "\n",
    "plt.plot(data[\"Close\"])"
   ]
  },
  {
   "cell_type": "markdown",
   "metadata": {},
   "source": [
    "### Solution Statement"
   ]
  },
  {
   "cell_type": "markdown",
   "metadata": {},
   "source": [
    "I will try to use Long Short Term Memory (LSTM) recurrent neural networks (RNNs). Because input data is time sequence data. So LSTM RNNs can be fit to solve regression problem. This trained models will be able to predict future price from specific time range input until today.(for example 7days input return tomorrow predict price)\n"
   ]
  },
  {
   "cell_type": "markdown",
   "metadata": {},
   "source": [
    "### Benchmark Model"
   ]
  },
  {
   "cell_type": "markdown",
   "metadata": {},
   "source": [
    "The benchmark model for regression problem would be a linear regression and compare performance with LSTM.\n",
    "Linear regression model is still effective methods for various problems. So easy to measure the difference of performance."
   ]
  },
  {
   "cell_type": "markdown",
   "metadata": {},
   "source": [
    "### Evaluation Metrics"
   ]
  },
  {
   "cell_type": "markdown",
   "metadata": {},
   "source": [
    "The benchmark model for regression problem would be root mean squared error that can easy to measure what is the average deviation of the prediction from the true price, and it can be compared with the mean of the true value to see whether the deviation is large or small."
   ]
  },
  {
   "cell_type": "markdown",
   "metadata": {},
   "source": [
    "### Project Design"
   ]
  },
  {
   "cell_type": "markdown",
   "metadata": {},
   "source": [
    "- use python library Skilearn, Keras\n",
    "\n",
    "- Check and clean historical data.\n",
    "- Visualize dataset.\n",
    "- Select or add features to find maximum correlation.(not only Nikkei255 but also S&P500 and other market data)\n",
    "- Choose to pickup time range and split data for train and test.  \n",
    "I will use time range 2003-2009 for traing and 2013-2019 for test. current stock market trend shape looks similer to 2003-2009. So it would be good to make nice prediction model.\n",
    "- Measure performance to use Root mean squared error.\n",
    "- Try to find best tune to get better performance.\n",
    "\n",
    "I will encourage to find how to manipulate input data (not use only price but also make percentage of fluctuation, time range and so on)  \n",
    "and encourage to find nice structure of the model."
   ]
  },
  {
   "cell_type": "markdown",
   "metadata": {},
   "source": [
    "### Reference"
   ]
  },
  {
   "cell_type": "markdown",
   "metadata": {},
   "source": [
    "Goldman Sachs Automated Trading Replaces 600 Traders With 200 Engineers  \n",
    "https://developers.slashdot.org/story/17/02/07/225225/goldman-sachs-automated-trading-replaces-600-traders-with-200-engineers  \n",
    "Machine Learning with Financial Time Series Data on Google Cloud Platform  \n",
    "https://github.com/corrieelston/datalab/blob/master/FinancialTimeSeriesTensorFlow.ipynb  \n",
    "A deep learning framework for financial time series using stacked autoencoders and long-short term memory  \n",
    "https://journals.plos.org/plosone/article?id=10.1371/journal.pone.0180944  \n",
    "\n",
    "Nikkei225 historical data  \n",
    "https://finance.yahoo.com/quote/^N225/history?period1=967647600&period2=1535641200&interval=1d&filter=history&frequency=1d  "
   ]
  }
 ],
 "metadata": {
  "kernelspec": {
   "display_name": "Python [default]",
   "language": "python",
   "name": "python3"
  },
  "language_info": {
   "codemirror_mode": {
    "name": "ipython",
    "version": 3
   },
   "file_extension": ".py",
   "mimetype": "text/x-python",
   "name": "python",
   "nbconvert_exporter": "python",
   "pygments_lexer": "ipython3",
   "version": "3.6.3"
  }
 },
 "nbformat": 4,
 "nbformat_minor": 2
}
